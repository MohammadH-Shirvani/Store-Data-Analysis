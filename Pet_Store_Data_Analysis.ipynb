{
 "cells": [
  {
   "cell_type": "markdown",
   "metadata": {
    "deletable": false,
    "editable": false,
    "nbgrader": {
     "cell_type": "markdown",
     "checksum": "91fb33fb46047093cd6974ea30f59aa1",
     "grade": false,
     "grade_id": "cell-ac72732fdac94bab",
     "locked": true,
     "schema_version": 3,
     "solution": false,
     "task": false
    }
   },
   "source": [
    "# Data Analytics: OSEMN Framework"
   ]
  },
  {
   "cell_type": "markdown",
   "metadata": {
    "deletable": false,
    "editable": false,
    "nbgrader": {
     "cell_type": "markdown",
     "checksum": "50b1f8b7d034537f52a51ecf1ffd7778",
     "grade": false,
     "grade_id": "cell-f614555be6054ba0",
     "locked": true,
     "schema_version": 3,
     "solution": false,
     "task": false
    }
   },
   "source": [
    "## Introduction\n",
    "\n",
    "Mean of *Data* in **Data Analytics** &rarr; Structured Data &rarr; Can be easily analyzed &rarr; Spreadshit-like information\n",
    "\n",
    "Data Analysis Goal &rarr; Gain insights from data\n",
    "\n",
    "**Steps of the OSEMN framework:**\n",
    "- [Obtain](#obtain)\n",
    "- [Scrub](#scrub)\n",
    "- [Explore](#explore)\n",
    "- [Model](#modeling)\n",
    "- [Interpret](#interpret)"
   ]
  },
  {
   "cell_type": "markdown",
   "metadata": {},
   "source": [
    "## Obtain"
   ]
  },
  {
   "cell_type": "code",
   "execution_count": 110,
   "metadata": {
    "deletable": false,
    "editable": false,
    "nbgrader": {
     "cell_type": "code",
     "checksum": "3d3c80186661b62d8a234eb846a358cc",
     "grade": false,
     "grade_id": "cell-bd14edeea3feaba2",
     "locked": true,
     "schema_version": 3,
     "solution": false,
     "task": false
    }
   },
   "outputs": [
    {
     "name": "stdout",
     "output_type": "stream",
     "text": [
      "<class 'pandas.core.frame.DataFrame'>\n",
      "RangeIndex: 1000 entries, 0 to 999\n",
      "Data columns (total 6 columns):\n",
      " #   Column            Non-Null Count  Dtype \n",
      "---  ------            --------------  ----- \n",
      " 0   product_name      900 non-null    object\n",
      " 1   product_category  903 non-null    object\n",
      " 2   price             1000 non-null   int64 \n",
      " 3   model             505 non-null    object\n",
      " 4   quantity          1000 non-null   int64 \n",
      " 5   product_line      1000 non-null   object\n",
      "dtypes: int64(2), object(4)\n",
      "memory usage: 47.0+ KB\n"
     ]
    },
    {
     "data": {
      "text/html": [
       "<div>\n",
       "<style scoped>\n",
       "    .dataframe tbody tr th:only-of-type {\n",
       "        vertical-align: middle;\n",
       "    }\n",
       "\n",
       "    .dataframe tbody tr th {\n",
       "        vertical-align: top;\n",
       "    }\n",
       "\n",
       "    .dataframe thead th {\n",
       "        text-align: right;\n",
       "    }\n",
       "</style>\n",
       "<table border=\"1\" class=\"dataframe\">\n",
       "  <thead>\n",
       "    <tr style=\"text-align: right;\">\n",
       "      <th></th>\n",
       "      <th>product_name</th>\n",
       "      <th>product_category</th>\n",
       "      <th>price</th>\n",
       "      <th>model</th>\n",
       "      <th>quantity</th>\n",
       "      <th>product_line</th>\n",
       "    </tr>\n",
       "  </thead>\n",
       "  <tbody>\n",
       "    <tr>\n",
       "      <th>0</th>\n",
       "      <td>Food</td>\n",
       "      <td>Accessory</td>\n",
       "      <td>1000</td>\n",
       "      <td>NaN</td>\n",
       "      <td>70</td>\n",
       "      <td>Cat</td>\n",
       "    </tr>\n",
       "    <tr>\n",
       "      <th>1</th>\n",
       "      <td>NaN</td>\n",
       "      <td>Food</td>\n",
       "      <td>20</td>\n",
       "      <td>Model_99</td>\n",
       "      <td>88</td>\n",
       "      <td>Dog</td>\n",
       "    </tr>\n",
       "    <tr>\n",
       "      <th>2</th>\n",
       "      <td>Collar</td>\n",
       "      <td>Toy</td>\n",
       "      <td>1000</td>\n",
       "      <td>NaN</td>\n",
       "      <td>84</td>\n",
       "      <td>Dog</td>\n",
       "    </tr>\n",
       "    <tr>\n",
       "      <th>3</th>\n",
       "      <td>Food</td>\n",
       "      <td>Toy</td>\n",
       "      <td>-10</td>\n",
       "      <td>Model_282</td>\n",
       "      <td>84</td>\n",
       "      <td>Cat</td>\n",
       "    </tr>\n",
       "    <tr>\n",
       "      <th>4</th>\n",
       "      <td>Toy</td>\n",
       "      <td>Toy</td>\n",
       "      <td>200</td>\n",
       "      <td>NaN</td>\n",
       "      <td>76</td>\n",
       "      <td>Cat</td>\n",
       "    </tr>\n",
       "  </tbody>\n",
       "</table>\n",
       "</div>"
      ],
      "text/plain": [
       "  product_name product_category  price      model  quantity product_line\n",
       "0         Food        Accessory   1000        NaN        70          Cat\n",
       "1          NaN             Food     20   Model_99        88          Dog\n",
       "2       Collar              Toy   1000        NaN        84          Dog\n",
       "3         Food              Toy    -10  Model_282        84          Cat\n",
       "4          Toy              Toy    200        NaN        76          Cat"
      ]
     },
     "metadata": {},
     "output_type": "display_data"
    },
    {
     "data": {
      "text/plain": [
       "None"
      ]
     },
     "metadata": {},
     "output_type": "display_data"
    },
    {
     "data": {
      "text/html": [
       "<div>\n",
       "<style scoped>\n",
       "    .dataframe tbody tr th:only-of-type {\n",
       "        vertical-align: middle;\n",
       "    }\n",
       "\n",
       "    .dataframe tbody tr th {\n",
       "        vertical-align: top;\n",
       "    }\n",
       "\n",
       "    .dataframe thead th {\n",
       "        text-align: right;\n",
       "    }\n",
       "</style>\n",
       "<table border=\"1\" class=\"dataframe\">\n",
       "  <thead>\n",
       "    <tr style=\"text-align: right;\">\n",
       "      <th></th>\n",
       "      <th>price</th>\n",
       "      <th>quantity</th>\n",
       "    </tr>\n",
       "  </thead>\n",
       "  <tbody>\n",
       "    <tr>\n",
       "      <th>count</th>\n",
       "      <td>1000.00000</td>\n",
       "      <td>1000.00000</td>\n",
       "    </tr>\n",
       "    <tr>\n",
       "      <th>mean</th>\n",
       "      <td>133.37000</td>\n",
       "      <td>50.48900</td>\n",
       "    </tr>\n",
       "    <tr>\n",
       "      <th>std</th>\n",
       "      <td>290.85338</td>\n",
       "      <td>28.40991</td>\n",
       "    </tr>\n",
       "    <tr>\n",
       "      <th>min</th>\n",
       "      <td>-50.00000</td>\n",
       "      <td>1.00000</td>\n",
       "    </tr>\n",
       "    <tr>\n",
       "      <th>25%</th>\n",
       "      <td>10.00000</td>\n",
       "      <td>25.00000</td>\n",
       "    </tr>\n",
       "    <tr>\n",
       "      <th>50%</th>\n",
       "      <td>20.00000</td>\n",
       "      <td>52.00000</td>\n",
       "    </tr>\n",
       "    <tr>\n",
       "      <th>75%</th>\n",
       "      <td>100.00000</td>\n",
       "      <td>75.00000</td>\n",
       "    </tr>\n",
       "    <tr>\n",
       "      <th>max</th>\n",
       "      <td>1000.00000</td>\n",
       "      <td>99.00000</td>\n",
       "    </tr>\n",
       "  </tbody>\n",
       "</table>\n",
       "</div>"
      ],
      "text/plain": [
       "            price    quantity\n",
       "count  1000.00000  1000.00000\n",
       "mean    133.37000    50.48900\n",
       "std     290.85338    28.40991\n",
       "min     -50.00000     1.00000\n",
       "25%      10.00000    25.00000\n",
       "50%      20.00000    52.00000\n",
       "75%     100.00000    75.00000\n",
       "max    1000.00000    99.00000"
      ]
     },
     "metadata": {},
     "output_type": "display_data"
    }
   ],
   "source": [
    "# Import the comomn libraries in data analytics\n",
    "import pandas as pd\n",
    "import matplotlib.pyplot as plt\n",
    "import seaborn as sns\n",
    "\n",
    "# Data\n",
    "df = pd.read_csv('Transactions_Pet_Store.csv')\n",
    "# Data Statistics\n",
    "display(df.head(), df.info(), df.describe())"
   ]
  },
  {
   "cell_type": "markdown",
   "metadata": {
    "deletable": false,
    "editable": false,
    "nbgrader": {
     "cell_type": "markdown",
     "checksum": "9a19e60e054d1b0ad657dd35d4a23e32",
     "grade": false,
     "grade_id": "cell-893bcb027e7df881",
     "locked": true,
     "schema_version": 3,
     "solution": false,
     "task": false
    }
   },
   "source": [
    "## Scrub\n",
    "\n",
    "Dirty data &rarr; doesn't represent the truth\n",
    "\n",
    "Common **Dirty data** Problems &rarr; Duplicates, Formatting Issues, Missing Values, Typos/Incorrect Values.\n",
    "\n",
    "------\n",
    "\n",
    "1. **Scrub the obvious bits first:** Duplicates & Formatting Issues"
   ]
  },
  {
   "cell_type": "code",
   "execution_count": 111,
   "metadata": {
    "deletable": false,
    "nbgrader": {
     "cell_type": "code",
     "checksum": "9712ff927b9a33817f81c3587a633fdd",
     "grade": false,
     "grade_id": "cell-b55c7e3f112f8727",
     "locked": false,
     "schema_version": 3,
     "solution": true,
     "task": false
    }
   },
   "outputs": [],
   "source": [
    "# rows with duplicated rows\n",
    "dup = df[df.duplicated()]\n",
    "# Remove rows with duplicated rows\n",
    "df = df.drop_duplicates()\n",
    "\n",
    "# Check formatting of price column\n",
    "valid_price = df['price'].apply(lambda x: isinstance(x, (int, float)))\n",
    "# Check formatting of product_category column\n",
    "valid_category = df['product_category'].apply(lambda x: isinstance(x, str))\n",
    "df = df[valid_category | valid_price]"
   ]
  },
  {
   "cell_type": "markdown",
   "metadata": {},
   "source": [
    "2. **Scrub more context-dependent:** Incorrect Information & Missing Values"
   ]
  },
  {
   "cell_type": "code",
   "execution_count": 112,
   "metadata": {},
   "outputs": [
    {
     "name": "stdout",
     "output_type": "stream",
     "text": [
      "<class 'pandas.core.frame.DataFrame'>\n",
      "RangeIndex: 808 entries, 0 to 807\n",
      "Data columns (total 6 columns):\n",
      " #   Column            Non-Null Count  Dtype  \n",
      "---  ------            --------------  -----  \n",
      " 0   product_name      808 non-null    object \n",
      " 1   product_category  808 non-null    object \n",
      " 2   price             808 non-null    float64\n",
      " 3   model             808 non-null    object \n",
      " 4   quantity          808 non-null    int64  \n",
      " 5   product_line      808 non-null    object \n",
      "dtypes: float64(1), int64(1), object(4)\n",
      "memory usage: 38.0+ KB\n"
     ]
    }
   ],
   "source": [
    "# Remove and replace incorrect value in price column\n",
    "df.price = df[df['price'] < 1000]['price']\n",
    "mask_price = df.price < 0\n",
    "df.loc[mask_price, 'price'] *= -1\n",
    "\n",
    "# Replace missing values in product_name, model columns\n",
    "df['product_name'] = df['product_name'].fillna('Product')\n",
    "df['model'] = df['model'].fillna('unknown_model')\n",
    "\n",
    "# Remove rows with missing values in specific columns\n",
    "df = df.dropna(subset = ['price', 'quantity', 'product_category'])\n",
    "\n",
    "# Reset the index of the DataFrame after removing scrubing\n",
    "df.reset_index(drop=True, inplace=True)\n",
    "\n",
    "df.info()"
   ]
  },
  {
   "cell_type": "markdown",
   "metadata": {
    "deletable": false,
    "editable": false,
    "nbgrader": {
     "cell_type": "markdown",
     "checksum": "47456969b851b079da18850cc50be339",
     "grade": false,
     "grade_id": "cell-e69c88f10bdec890",
     "locked": true,
     "schema_version": 3,
     "solution": false,
     "task": false
    }
   },
   "source": [
    "## Explore\n",
    "\n",
    "**Exploring Data** &rarr; Looking for patterns\n",
    "\n",
    "------\n",
    "\n",
    "- Numerical qualifies via statistics\n",
    "- Visual qualifies via charts\n",
    "\n",
    "**Purpose of Visuallization:**\n",
    "- Explanatory\n",
    "\n",
    "- Exploratory: **Distribution (*Box plot*, *Violin Plot*, *Histogram*)**  - **Category (*Bar Plot*)** -              **Relationship (*Line Plot*, *Scatter Plot*)**\n"
   ]
  },
  {
   "cell_type": "code",
   "execution_count": 123,
   "metadata": {
    "deletable": false,
    "nbgrader": {
     "cell_type": "code",
     "checksum": "dc1ca179ee57565430754d458463b7d5",
     "grade": false,
     "grade_id": "cell-ece8384bff124a9a",
     "locked": false,
     "schema_version": 3,
     "solution": true,
     "task": false
    }
   },
   "outputs": [
    {
     "data": {
      "text/html": [
       "<div>\n",
       "<style scoped>\n",
       "    .dataframe tbody tr th:only-of-type {\n",
       "        vertical-align: middle;\n",
       "    }\n",
       "\n",
       "    .dataframe tbody tr th {\n",
       "        vertical-align: top;\n",
       "    }\n",
       "\n",
       "    .dataframe thead th {\n",
       "        text-align: right;\n",
       "    }\n",
       "</style>\n",
       "<table border=\"1\" class=\"dataframe\">\n",
       "  <thead>\n",
       "    <tr style=\"text-align: right;\">\n",
       "      <th></th>\n",
       "      <th></th>\n",
       "      <th>quantity</th>\n",
       "    </tr>\n",
       "    <tr>\n",
       "      <th>product_line</th>\n",
       "      <th>product_category</th>\n",
       "      <th></th>\n",
       "    </tr>\n",
       "  </thead>\n",
       "  <tbody>\n",
       "    <tr>\n",
       "      <th rowspan=\"3\" valign=\"top\">Cat</th>\n",
       "      <th>Accessory</th>\n",
       "      <td>8777</td>\n",
       "    </tr>\n",
       "    <tr>\n",
       "      <th>Food</th>\n",
       "      <td>6706</td>\n",
       "    </tr>\n",
       "    <tr>\n",
       "      <th>Toy</th>\n",
       "      <td>4571</td>\n",
       "    </tr>\n",
       "    <tr>\n",
       "      <th rowspan=\"3\" valign=\"top\">Dog</th>\n",
       "      <th>Accessory</th>\n",
       "      <td>8527</td>\n",
       "    </tr>\n",
       "    <tr>\n",
       "      <th>Food</th>\n",
       "      <td>6860</td>\n",
       "    </tr>\n",
       "    <tr>\n",
       "      <th>Toy</th>\n",
       "      <td>5295</td>\n",
       "    </tr>\n",
       "  </tbody>\n",
       "</table>\n",
       "</div>"
      ],
      "text/plain": [
       "                               quantity\n",
       "product_line product_category          \n",
       "Cat          Accessory             8777\n",
       "             Food                  6706\n",
       "             Toy                   4571\n",
       "Dog          Accessory             8527\n",
       "             Food                  6860\n",
       "             Toy                   5295"
      ]
     },
     "metadata": {},
     "output_type": "display_data"
    },
    {
     "data": {
      "text/plain": [
       "Text(0, 0.5, 'Product Category')"
      ]
     },
     "execution_count": 123,
     "metadata": {},
     "output_type": "execute_result"
    },
    {
     "data": {
      "image/png": "[encoded data removed]",
      "text/plain": [
       "<Figure size 800x400 with 1 Axes>"
      ]
     },
     "metadata": {},
     "output_type": "display_data"
    }
   ],
   "source": [
    "# Explane the data by grouping\n",
    "product_line_group = df.groupby(['product_line', 'product_category'])\n",
    "sold_quantity_df = product_line_group[['quantity']].agg('sum')\n",
    "display(sold_quantity_df)\n",
    "\n",
    "# Plotting the data\n",
    "plt.figure(figsize=(8, 4))\n",
    "ax = sns.barplot(data = sold_quantity_df, x = 'quantity', y = 'product_category', hue = 'product_line')\n",
    "ax.set_xlabel('Qauntity Sold')\n",
    "ax.set_ylabel('Product Category')"
   ]
  },
  {
   "cell_type": "markdown",
   "metadata": {
    "deletable": false,
    "editable": false,
    "nbgrader": {
     "cell_type": "markdown",
     "checksum": "713321e625f7490fa9bc25e3381f4b29",
     "grade": false,
     "grade_id": "cell-a305ebb05b5bab4f",
     "locked": true,
     "schema_version": 3,
     "solution": false,
     "task": false
    }
   },
   "source": [
    "## Modeling\n",
    "\n",
    "**Modeling** : Forecasting the future\n",
    "\n",
    "Tasks for Modeling: Regression (e.g., Time Series Data) - Classification - Clustering"
   ]
  },
  {
   "cell_type": "markdown",
   "metadata": {
    "deletable": false,
    "editable": false,
    "nbgrader": {
     "cell_type": "markdown",
     "checksum": "e71a3893dbab8f098ca17fa1fa6f6f2c",
     "grade": false,
     "grade_id": "cell-44e24612cdc015b6",
     "locked": true,
     "schema_version": 3,
     "solution": false,
     "task": false
    }
   },
   "source": [
    "## Interpret\n",
    "\n",
    "**Goals of Interpretion** :\n",
    "- Get key insights form the work\n",
    "- Explain and share the findings\n",
    "- Recommendations"
   ]
  },
  {
   "cell_type": "code",
   "execution_count": 122,
   "metadata": {
    "deletable": false,
    "nbgrader": {
     "cell_type": "code",
     "checksum": "f4109a9cc53215f0e6338d21151aa80e",
     "grade": false,
     "grade_id": "cell-d3c42515fea064ee",
     "locked": false,
     "schema_version": 3,
     "solution": true,
     "task": false
    }
   },
   "outputs": [
    {
     "data": {
      "text/plain": [
       "<Axes: >"
      ]
     },
     "execution_count": 122,
     "metadata": {},
     "output_type": "execute_result"
    },
    {
     "data": {
      "image/png": "[encoded data removed]",
      "text/plain": [
       "<Figure size 640x480 with 1 Axes>"
      ]
     },
     "metadata": {},
     "output_type": "display_data"
    }
   ],
   "source": [
    "# Example: Box plot for get insights from price column\n",
    "df['price'].plot.box()"
   ]
  }
 ],
 "metadata": {
  "kernelspec": {
   "display_name": "Python 3",
   "language": "python",
   "name": "python3"
  },
  "language_info": {
   "codemirror_mode": {
    "name": "ipython",
    "version": 3
   },
   "file_extension": ".py",
   "mimetype": "text/x-python",
   "name": "python",
   "nbconvert_exporter": "python",
   "pygments_lexer": "ipython3",
   "version": "3.11.6"
  }
 },
 "nbformat": 4,
 "nbformat_minor": 2
}
